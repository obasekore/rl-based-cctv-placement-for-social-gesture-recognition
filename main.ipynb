{
 "cells": [
  {
   "cell_type": "code",
   "execution_count": null,
   "metadata": {},
   "outputs": [],
   "source": [
    "import numpy as np\n",
    "from coppeliasim_zmqremoteapi_client import *"
   ]
  },
  {
   "cell_type": "code",
   "execution_count": null,
   "metadata": {},
   "outputs": [],
   "source": [
    "# create a client to connect to zmqRemoteApi server:\n",
    "# (creation arguments can specify different host/port,\n",
    "# defaults are host='localhost', port=23000)\n",
    "client = RemoteAPIClient()\n",
    "\n",
    "# get a remote object:\n",
    "sim = client.require('sim')\n",
    "\n",
    "# call API function:\n",
    "h = sim.getObject('/Floor')\n",
    "print(h)"
   ]
  }
 ],
 "metadata": {
  "language_info": {
   "name": "python"
  }
 },
 "nbformat": 4,
 "nbformat_minor": 2
}
